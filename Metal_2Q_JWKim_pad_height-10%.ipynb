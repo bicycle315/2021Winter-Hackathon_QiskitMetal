{
 "cells": [
  {
   "cell_type": "code",
   "execution_count": 1,
   "id": "photographic-liberal",
   "metadata": {},
   "outputs": [],
   "source": [
    "%load_ext autoreload\n",
    "%autoreload 2"
   ]
  },
  {
   "cell_type": "code",
   "execution_count": 2,
   "id": "purple-inclusion",
   "metadata": {},
   "outputs": [],
   "source": [
    "import qiskit_metal as metal\n",
    "from qiskit_metal import designs, draw\n",
    "from qiskit_metal import MetalGUI, Dict, open_docs"
   ]
  },
  {
   "cell_type": "code",
   "execution_count": 3,
   "id": "middle-puzzle",
   "metadata": {},
   "outputs": [],
   "source": [
    "from qiskit_metal.qlibrary.qubits.transmon_pocket_cl import TransmonPocketCL\n",
    "from qiskit_metal.qlibrary.qubits.transmon_pocket import TransmonPocket\n",
    "\n",
    "from qiskit_metal.qlibrary.interconnects.meandered import RouteMeander\n",
    "from qiskit_metal.qlibrary.interconnects.pathfinder import RoutePathfinder\n",
    "\n",
    "from qiskit_metal.qlibrary.passives.cap_three_fingers import CapThreeFingers\n",
    "from qiskit_metal.qlibrary.passives.launchpad_wb import LaunchpadWirebond"
   ]
  },
  {
   "cell_type": "code",
   "execution_count": 4,
   "id": "serious-istanbul",
   "metadata": {},
   "outputs": [],
   "source": [
    "design = metal.designs.DesignPlanar()\n",
    "gui = metal.MetalGUI(design)"
   ]
  },
  {
   "cell_type": "code",
   "execution_count": 5,
   "id": "intimate-decrease",
   "metadata": {},
   "outputs": [
    {
     "data": {
      "text/plain": [
       "{'material': 'silicon',\n",
       " 'layer_start': '0',\n",
       " 'layer_end': '2048',\n",
       " 'size': {'center_x': '0.0mm',\n",
       "  'center_y': '0.0mm',\n",
       "  'center_z': '0.0mm',\n",
       "  'size_x': '9mm',\n",
       "  'size_y': '6mm',\n",
       "  'size_z': '-750um',\n",
       "  'sample_holder_top': '890um',\n",
       "  'sample_holder_bottom': '1650um'}}"
      ]
     },
     "execution_count": 5,
     "metadata": {},
     "output_type": "execute_result"
    }
   ],
   "source": [
    "design.chips.main.size['size_x'] = '9mm'\n",
    "design.chips.main.size['size_y'] = '6mm'\n",
    "\n",
    "design.overwrite_enabled = True\n",
    "design.chips.main"
   ]
  },
  {
   "cell_type": "code",
   "execution_count": 6,
   "id": "requested-vitamin",
   "metadata": {},
   "outputs": [],
   "source": [
    "## Basic operation\n",
    "options = dict(\n",
    "    pad_width = '425 um',\n",
    "    pad_height = '90um',\n",
    "    pocket_height = '650 um',\n",
    "    cl_pocket_edge = '180',\n",
    "    connection_pads = dict(\n",
    "        readout = dict(loc_W=+1, loc_H=+1),\n",
    "        bus = dict(loc_W=-1, loc_H=-1)\n",
    "    ))\n",
    "\n",
    "Q1 = TransmonPocket(design,'Q1', options = dict(\n",
    "        pos_x='-1.0mm',\n",
    "        pos_y='+0mm',\n",
    "        gds_cell_name = 'TOP',\n",
    "        hfss_inductance = '14nH',\n",
    "        **options))\n",
    "\n",
    "Q2 = TransmonPocket(design,'Q2', options = dict(\n",
    "        pos_x='+1.0mm',\n",
    "        pos_y='+0mm',\n",
    "        gds_cell_name = 'TOP',\n",
    "        hfss_inductance = '24nH',\n",
    "        **options))\n",
    "\n",
    "gui.rebuild()\n",
    "gui.autoscale()"
   ]
  },
  {
   "cell_type": "code",
   "execution_count": 7,
   "id": "historical-party",
   "metadata": {},
   "outputs": [],
   "source": [
    "def connect(component_name: str, component1: str, pin1: str, component2: str, pin2: str,\n",
    "            length: str, asymmetry='0 um', flip=False, fillet='90um'):\n",
    "    \"\"\"Connect two pins with a CPW.\"\"\"\n",
    "    myoptions = Dict(\n",
    "        fillet=fillet,\n",
    "        pin_inputs=Dict(\n",
    "            start_pin=Dict(\n",
    "                component=component1,\n",
    "                pin=pin1),\n",
    "            end_pin=Dict(\n",
    "                component=component2,\n",
    "                pin=pin2)),\n",
    "        total_length=length)\n",
    "    myoptions.update(options)\n",
    "    myoptions.meander.asymmetry = asymmetry\n",
    "    myoptions.meander.lead_direction_inverted = 'true' if flip else 'false'\n",
    "    return RouteMeander(design, component_name, myoptions)\n",
    "\n",
    "RouteMeander.get_template_options(design)\n",
    "\n",
    "options = Dict(\n",
    "        lead=Dict(\n",
    "            start_straight='0.1mm',\n",
    "            end_straight='0.1mm'),\n",
    "        trace_gap='9um',\n",
    "        trace_width='15um')\n",
    "\n",
    "asym = 150\n",
    "cpw1 = connect('cpw1', 'Q1', 'readout', 'Q2', 'bus', '5 mm', f'+{asym}um')\n",
    "\n",
    "gui.rebuild()\n",
    "gui.autoscale()"
   ]
  },
  {
   "cell_type": "code",
   "execution_count": 8,
   "id": "periodic-provincial",
   "metadata": {},
   "outputs": [],
   "source": [
    "Q1.options.pad_height='80um' \n",
    "Q2.options.pad_height='80um'"
   ]
  },
  {
   "cell_type": "code",
   "execution_count": null,
   "id": "defined-posting",
   "metadata": {},
   "outputs": [],
   "source": []
  }
 ],
 "metadata": {
  "kernelspec": {
   "display_name": "Python 3",
   "language": "python",
   "name": "python3"
  },
  "language_info": {
   "codemirror_mode": {
    "name": "ipython",
    "version": 3
   },
   "file_extension": ".py",
   "mimetype": "text/x-python",
   "name": "python",
   "nbconvert_exporter": "python",
   "pygments_lexer": "ipython3",
   "version": "3.7.8"
  }
 },
 "nbformat": 4,
 "nbformat_minor": 5
}
